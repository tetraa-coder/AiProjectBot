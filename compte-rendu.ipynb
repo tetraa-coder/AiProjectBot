{
 "cells": [
  {
   "cell_type": "code",
   "execution_count": 14,
   "metadata": {},
   "outputs": [],
   "source": [
    "\n",
    "import discord\n",
    "from discord.ext import commands\n",
    "import yaml\n",
    "\n",
    "from discord.ext import commands\n",
    "\n",
    "intents = discord.Intents.default()\n",
    "intents.members = True  # Activer les intentions pour les membres du serveur\n",
    "\n",
    "bot = commands.Bot(command_prefix='!', intents=intents)\n",
    "\n",
    "# Charger les clés d'API depuis le fichier YAML privé\n",
    "with open(\"private/api_keys.yaml\", \"r\") as file:\n",
    "    api_keys = yaml.safe_load(file)\n",
    "\n",
    "#bot = commands.Bot(command_prefix='!')\n",
    "\n",
    "@bot.event\n",
    "async def on_ready():\n",
    "    print('Bot is ready.')\n",
    "\n",
    "\n"
   ]
  },
  {
   "cell_type": "code",
   "execution_count": null,
   "metadata": {},
   "outputs": [],
   "source": []
  }
 ],
 "metadata": {
  "kernelspec": {
   "display_name": "Python 3",
   "language": "python",
   "name": "python3"
  },
  "language_info": {
   "codemirror_mode": {
    "name": "ipython",
    "version": 3
   },
   "file_extension": ".py",
   "mimetype": "text/x-python",
   "name": "python",
   "nbconvert_exporter": "python",
   "pygments_lexer": "ipython3",
   "version": "3.12.0"
  }
 },
 "nbformat": 4,
 "nbformat_minor": 2
}
